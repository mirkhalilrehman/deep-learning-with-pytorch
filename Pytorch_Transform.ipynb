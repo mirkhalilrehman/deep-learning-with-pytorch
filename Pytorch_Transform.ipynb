{
  "nbformat": 4,
  "nbformat_minor": 0,
  "metadata": {
    "colab": {
      "provenance": []
    },
    "kernelspec": {
      "name": "python3",
      "display_name": "Python 3"
    },
    "language_info": {
      "name": "python"
    }
  },
  "cells": [
    {
      "cell_type": "code",
      "execution_count": null,
      "metadata": {
        "id": "5xS7gewH0raj"
      },
      "outputs": [],
      "source": [
        "import torch\n",
        "import torchvision\n",
        "from torch.utils.data import Dataset,DataLoader\n",
        "import numpy as np\n",
        "import math"
      ]
    },
    {
      "cell_type": "code",
      "source": [
        "class WineDataset(Dataset):\n",
        "  def __init__(self,transform=None):\n",
        "    xy=np.loadtxt('/content/wine.csv',delimiter=',',dtype=np.float32,skiprows=1)\n",
        "    self.x=xy[:,1:]\n",
        "    self.y=xy[:,[0]]\n",
        "    self.n_samples=xy.shape[0]\n",
        "\n",
        "    self.transform = transform\n",
        "\n",
        "\n",
        "  def __len__(self):\n",
        "    return self.n_samples\n",
        "\n",
        "  def __getitem__(self,index):\n",
        "    sample=self.x[index],self.y[index]\n",
        "\n",
        "    if self.transform:\n",
        "      sample= self.transform(sample)\n",
        "\n",
        "    return sample\n",
        "\n",
        "\n",
        "\n",
        "class ToTensor:\n",
        "  def __call__(self,sample):\n",
        "    inputs,targets=sample\n",
        "    return torch.from_numpy(inputs), torch.from_numpy(targets)\n",
        "\n",
        "\n",
        "\n",
        "class MulTransform:\n",
        "  def __init__(self,factor):\n",
        "    self.factor=factor\n",
        "\n",
        "  def __call__(self,sample):\n",
        "    inputs,targets=sample\n",
        "    inputs +=self.factor\n",
        "    return inputs,targets"
      ],
      "metadata": {
        "id": "Q6YU58nr1Nno"
      },
      "execution_count": null,
      "outputs": []
    },
    {
      "cell_type": "code",
      "source": [
        "dataset=WineDataset(transform=ToTensor())\n",
        "firstdata=dataset[0]\n",
        "features,labels=firstdata\n",
        "print(features,labels)\n",
        "print(features.dtype,labels.dtype)"
      ],
      "metadata": {
        "colab": {
          "base_uri": "https://localhost:8080/"
        },
        "id": "XQ82cc9H22sr",
        "outputId": "5e204479-5de7-4dec-f3f1-b5e1d8e34eca"
      },
      "execution_count": null,
      "outputs": [
        {
          "output_type": "stream",
          "name": "stdout",
          "text": [
            "tensor([1.4230e+01, 1.7100e+00, 2.4300e+00, 1.5600e+01, 1.2700e+02, 2.8000e+00,\n",
            "        3.0600e+00, 2.8000e-01, 2.2900e+00, 5.6400e+00, 1.0400e+00, 3.9200e+00,\n",
            "        1.0650e+03]) tensor([1.])\n",
            "torch.float32 torch.float32\n"
          ]
        }
      ]
    },
    {
      "cell_type": "code",
      "source": [
        "dataset=WineDataset(transform=None)\n",
        "firstdata=dataset[0]\n",
        "features,labels=firstdata\n",
        "print(features,labels)\n",
        "print(features.dtype,labels.dtype)"
      ],
      "metadata": {
        "colab": {
          "base_uri": "https://localhost:8080/"
        },
        "id": "C9r9wlx-4CpZ",
        "outputId": "528d483b-c3df-4b39-f90d-49e27f66acff"
      },
      "execution_count": null,
      "outputs": [
        {
          "output_type": "stream",
          "name": "stdout",
          "text": [
            "[1.423e+01 1.710e+00 2.430e+00 1.560e+01 1.270e+02 2.800e+00 3.060e+00\n",
            " 2.800e-01 2.290e+00 5.640e+00 1.040e+00 3.920e+00 1.065e+03] [1.]\n",
            "float32 float32\n"
          ]
        }
      ]
    },
    {
      "cell_type": "code",
      "source": [
        "dataset=WineDataset(transform=None)\n",
        "firstdata=dataset[0]\n",
        "features,labels=firstdata\n",
        "print(features,labels)\n",
        "print(features.dtype,labels.dtype)"
      ],
      "metadata": {
        "colab": {
          "base_uri": "https://localhost:8080/"
        },
        "id": "lb-7kvnI5Qtn",
        "outputId": "3d82f202-6817-488b-9016-9c4e70af54a9"
      },
      "execution_count": null,
      "outputs": [
        {
          "output_type": "stream",
          "name": "stdout",
          "text": [
            "[1.423e+01 1.710e+00 2.430e+00 1.560e+01 1.270e+02 2.800e+00 3.060e+00\n",
            " 2.800e-01 2.290e+00 5.640e+00 1.040e+00 3.920e+00 1.065e+03] [1.]\n",
            "float32 float32\n"
          ]
        }
      ]
    },
    {
      "cell_type": "code",
      "source": [
        "composed=torchvision.transforms.Compose([ToTensor(),MulTransform(2)])\n",
        "dataset=WineDataset(transform=composed)\n",
        "firstdata=dataset[0]\n",
        "features,labels=firstdata\n",
        "print(features,labels)\n",
        "print(features.dtype,labels.dtype)\n"
      ],
      "metadata": {
        "colab": {
          "base_uri": "https://localhost:8080/"
        },
        "id": "hZj0fNog5zIF",
        "outputId": "657cfc7d-15fb-4790-f751-d19a9b5f4ade"
      },
      "execution_count": null,
      "outputs": [
        {
          "output_type": "stream",
          "name": "stdout",
          "text": [
            "tensor([  16.2300,    3.7100,    4.4300,   17.6000,  129.0000,    4.8000,\n",
            "           5.0600,    2.2800,    4.2900,    7.6400,    3.0400,    5.9200,\n",
            "        1067.0000]) tensor([1.])\n",
            "torch.float32 torch.float32\n"
          ]
        }
      ]
    },
    {
      "cell_type": "code",
      "source": [],
      "metadata": {
        "id": "kVFA4aCb6IPf"
      },
      "execution_count": null,
      "outputs": []
    }
  ]
}