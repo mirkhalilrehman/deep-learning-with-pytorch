{
  "nbformat": 4,
  "nbformat_minor": 0,
  "metadata": {
    "colab": {
      "provenance": []
    },
    "kernelspec": {
      "name": "python3",
      "display_name": "Python 3"
    },
    "language_info": {
      "name": "python"
    }
  },
  "cells": [
    {
      "cell_type": "code",
      "execution_count": null,
      "metadata": {
        "id": "Fv2lv1Ib5lz5"
      },
      "outputs": [],
      "source": [
        "import torch\n",
        "import torchvision\n",
        "from torch.utils.data import Dataset,DataLoader\n",
        "import numpy as np\n",
        "import math"
      ]
    },
    {
      "cell_type": "code",
      "source": [
        "class WineDataset(Dataset):\n",
        "  def __init__(self):\n",
        "    xy=np.loadtxt('/content/wine.csv',delimiter=',',dtype=np.float32,skiprows=1)\n",
        "    self.x=torch.from_numpy(xy[:,1:])\n",
        "    self.y=torch.from_numpy(xy[:,[0]])\n",
        "    self.n_samples=xy.shape[0]\n",
        "\n",
        "  def __len__(self):\n",
        "    return self.n_samples\n",
        "\n",
        "  def __getitem__(self,index):\n",
        "    return self.x[index],self.y[index]\n"
      ],
      "metadata": {
        "id": "BZzVSsPA6HNs"
      },
      "execution_count": null,
      "outputs": []
    },
    {
      "cell_type": "code",
      "source": [
        "dataset=WineDataset()\n",
        "firstdata=dataset[0]\n",
        "features,labels=firstdata\n",
        "print(features,labels)"
      ],
      "metadata": {
        "colab": {
          "base_uri": "https://localhost:8080/"
        },
        "id": "Elg31nCP68xz",
        "outputId": "9083e6b4-945f-484b-ef4a-9b8fc4adc956"
      },
      "execution_count": null,
      "outputs": [
        {
          "output_type": "stream",
          "name": "stdout",
          "text": [
            "tensor([1.4230e+01, 1.7100e+00, 2.4300e+00, 1.5600e+01, 1.2700e+02, 2.8000e+00,\n",
            "        3.0600e+00, 2.8000e-01, 2.2900e+00, 5.6400e+00, 1.0400e+00, 3.9200e+00,\n",
            "        1.0650e+03]) tensor([1.])\n"
          ]
        }
      ]
    },
    {
      "cell_type": "code",
      "source": [
        "dataloader=DataLoader(dataset,batch_size=4,shuffle=True,num_workers=2)\n"
      ],
      "metadata": {
        "id": "rCrwgHqd7QHy"
      },
      "execution_count": null,
      "outputs": []
    },
    {
      "cell_type": "code",
      "source": [
        "dataiter=iter(dataloader)\n",
        "data=next(dataiter)\n",
        "features,labels=data\n",
        "print(features,labels)"
      ],
      "metadata": {
        "colab": {
          "base_uri": "https://localhost:8080/"
        },
        "id": "n474wRbB7QER",
        "outputId": "ce0acde3-2866-4017-d0bc-7170aa59091f"
      },
      "execution_count": null,
      "outputs": [
        {
          "output_type": "stream",
          "name": "stdout",
          "text": [
            "tensor([[1.3480e+01, 1.8100e+00, 2.4100e+00, 2.0500e+01, 1.0000e+02, 2.7000e+00,\n",
            "         2.9800e+00, 2.6000e-01, 1.8600e+00, 5.1000e+00, 1.0400e+00, 3.4700e+00,\n",
            "         9.2000e+02],\n",
            "        [1.3340e+01, 9.4000e-01, 2.3600e+00, 1.7000e+01, 1.1000e+02, 2.5300e+00,\n",
            "         1.3000e+00, 5.5000e-01, 4.2000e-01, 3.1700e+00, 1.0200e+00, 1.9300e+00,\n",
            "         7.5000e+02],\n",
            "        [1.1810e+01, 2.1200e+00, 2.7400e+00, 2.1500e+01, 1.3400e+02, 1.6000e+00,\n",
            "         9.9000e-01, 1.4000e-01, 1.5600e+00, 2.5000e+00, 9.5000e-01, 2.2600e+00,\n",
            "         6.2500e+02],\n",
            "        [1.2070e+01, 2.1600e+00, 2.1700e+00, 2.1000e+01, 8.5000e+01, 2.6000e+00,\n",
            "         2.6500e+00, 3.7000e-01, 1.3500e+00, 2.7600e+00, 8.6000e-01, 3.2800e+00,\n",
            "         3.7800e+02]]) tensor([[1.],\n",
            "        [2.],\n",
            "        [2.],\n",
            "        [2.]])\n"
          ]
        }
      ]
    },
    {
      "cell_type": "code",
      "source": [
        "num_epochs=2\n",
        "total_samples=len(dataset)\n",
        "n_iterations=math.ceil(total_samples/4)\n",
        "\n",
        "for epoch in range(num_epochs):\n",
        "  for i,(inputs,labels) in enumerate(dataloader):\n",
        "    if (i+1)%5==0:\n",
        "      print(f'Epoch{epoch+1}/{num_epochs}, step:{i+1}/{n_iterations}, inputs {inputs.shape}')"
      ],
      "metadata": {
        "colab": {
          "base_uri": "https://localhost:8080/"
        },
        "id": "gcXTpnNv7sB3",
        "outputId": "ed8464c3-b005-483b-c1e0-6439cbeb1df7"
      },
      "execution_count": null,
      "outputs": [
        {
          "output_type": "stream",
          "name": "stdout",
          "text": [
            "Epoch1/2, step:5/45, inputs torch.Size([4, 13])\n",
            "Epoch1/2, step:10/45, inputs torch.Size([4, 13])\n",
            "Epoch1/2, step:15/45, inputs torch.Size([4, 13])\n",
            "Epoch1/2, step:20/45, inputs torch.Size([4, 13])\n",
            "Epoch1/2, step:25/45, inputs torch.Size([4, 13])\n",
            "Epoch1/2, step:30/45, inputs torch.Size([4, 13])\n",
            "Epoch1/2, step:35/45, inputs torch.Size([4, 13])\n",
            "Epoch1/2, step:40/45, inputs torch.Size([4, 13])\n",
            "Epoch1/2, step:45/45, inputs torch.Size([2, 13])\n",
            "Epoch2/2, step:5/45, inputs torch.Size([4, 13])\n",
            "Epoch2/2, step:10/45, inputs torch.Size([4, 13])\n",
            "Epoch2/2, step:15/45, inputs torch.Size([4, 13])\n",
            "Epoch2/2, step:20/45, inputs torch.Size([4, 13])\n",
            "Epoch2/2, step:25/45, inputs torch.Size([4, 13])\n",
            "Epoch2/2, step:30/45, inputs torch.Size([4, 13])\n",
            "Epoch2/2, step:35/45, inputs torch.Size([4, 13])\n",
            "Epoch2/2, step:40/45, inputs torch.Size([4, 13])\n",
            "Epoch2/2, step:45/45, inputs torch.Size([2, 13])\n"
          ]
        }
      ]
    },
    {
      "cell_type": "code",
      "source": [],
      "metadata": {
        "id": "PbCf9_Eg7QAy"
      },
      "execution_count": null,
      "outputs": []
    },
    {
      "cell_type": "markdown",
      "source": [],
      "metadata": {
        "id": "MZQuTVE36H9V"
      }
    }
  ]
}