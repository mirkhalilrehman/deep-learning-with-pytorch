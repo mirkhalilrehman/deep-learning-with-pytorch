{
  "nbformat": 4,
  "nbformat_minor": 0,
  "metadata": {
    "colab": {
      "provenance": []
    },
    "kernelspec": {
      "name": "python3",
      "display_name": "Python 3"
    },
    "language_info": {
      "name": "python"
    }
  },
  "cells": [
    {
      "cell_type": "code",
      "execution_count": 76,
      "metadata": {
        "id": "Nr2uBHYsn17g"
      },
      "outputs": [],
      "source": [
        "import torch\n",
        "import torch.nn as nn\n",
        "from sklearn import datasets\n",
        "import numpy as np\n",
        "from sklearn.model_selection import train_test_split\n",
        "from sklearn.preprocessing import StandardScaler"
      ]
    },
    {
      "cell_type": "code",
      "source": [
        "data=datasets.load_breast_cancer()"
      ],
      "metadata": {
        "id": "hW9O1BpjrxLR"
      },
      "execution_count": 77,
      "outputs": []
    },
    {
      "cell_type": "code",
      "source": [
        "X,y=data.data,data.target"
      ],
      "metadata": {
        "id": "d6Tb33YtsJkd"
      },
      "execution_count": 78,
      "outputs": []
    },
    {
      "cell_type": "code",
      "source": [
        "X.shape"
      ],
      "metadata": {
        "colab": {
          "base_uri": "https://localhost:8080/"
        },
        "id": "j4UhLtiasUN2",
        "outputId": "8cc08d42-bb12-49d7-a8a9-e00126e60a45"
      },
      "execution_count": 79,
      "outputs": [
        {
          "output_type": "execute_result",
          "data": {
            "text/plain": [
              "(569, 30)"
            ]
          },
          "metadata": {},
          "execution_count": 79
        }
      ]
    },
    {
      "cell_type": "code",
      "source": [
        "y.shape"
      ],
      "metadata": {
        "colab": {
          "base_uri": "https://localhost:8080/"
        },
        "id": "dZ3KbAL6sXWK",
        "outputId": "8bc121e1-ad40-4fcb-f3ab-46361c297269"
      },
      "execution_count": 80,
      "outputs": [
        {
          "output_type": "execute_result",
          "data": {
            "text/plain": [
              "(569,)"
            ]
          },
          "metadata": {},
          "execution_count": 80
        }
      ]
    },
    {
      "cell_type": "code",
      "source": [
        "n_samples,n_features=X.shape"
      ],
      "metadata": {
        "id": "FnjZ-ZjHsYPc"
      },
      "execution_count": 81,
      "outputs": []
    },
    {
      "cell_type": "code",
      "source": [
        "X_train,X_test,y_train,y_test=train_test_split(X,y,test_size=0.2,random_state=42)"
      ],
      "metadata": {
        "id": "m_U8qA34scP8"
      },
      "execution_count": 82,
      "outputs": []
    },
    {
      "cell_type": "code",
      "source": [
        "sc=StandardScaler()\n",
        "x_train=sc.fit_transform(X_train)\n",
        "x_test=sc.transform(X_test)\n"
      ],
      "metadata": {
        "id": "kSr5TInZslXE"
      },
      "execution_count": 83,
      "outputs": []
    },
    {
      "cell_type": "code",
      "source": [
        "X_train=torch.from_numpy(x_train.astype(np.float32))\n",
        "X_test=torch.from_numpy(x_test.astype(np.float32))\n",
        "y_train=torch.from_numpy(y_train.astype(np.float32))\n",
        "y_test=torch.from_numpy(y_test.astype(np.float32))\n"
      ],
      "metadata": {
        "id": "W33B8K8As5BN"
      },
      "execution_count": 84,
      "outputs": []
    },
    {
      "cell_type": "code",
      "source": [
        "y_train=y_train.view(y_train.shape[0],1)\n",
        "y_test=y_test.view(y_test.shape[0],1)"
      ],
      "metadata": {
        "id": "-juXm6bZyFuZ"
      },
      "execution_count": 85,
      "outputs": []
    },
    {
      "cell_type": "code",
      "source": [
        "class LogisticRegression(nn.Module):\n",
        "  def __init__(self,n_input_features):\n",
        "    super(LogisticRegression,self).__init__()\n",
        "    self.linear=nn.Linear(n_input_features,1)\n",
        "\n",
        "  def forward(self,x):\n",
        "    y_pred=torch.sigmoid(self.linear(x))\n",
        "    return y_pred\n"
      ],
      "metadata": {
        "id": "wtdBbPMkyR6J"
      },
      "execution_count": 86,
      "outputs": []
    },
    {
      "cell_type": "code",
      "source": [
        "model=LogisticRegression(n_features)\n",
        "criterion=nn.BCELoss()\n",
        "optim=torch.optim.SGD(model.parameters(),lr=0.01)"
      ],
      "metadata": {
        "id": "qZ_axSdgy7LB"
      },
      "execution_count": 87,
      "outputs": []
    },
    {
      "cell_type": "code",
      "source": [
        "X_train.shape"
      ],
      "metadata": {
        "colab": {
          "base_uri": "https://localhost:8080/"
        },
        "id": "iBckIeoo1ElD",
        "outputId": "1869a06d-0731-459d-961a-28475ab69177"
      },
      "execution_count": 88,
      "outputs": [
        {
          "output_type": "execute_result",
          "data": {
            "text/plain": [
              "torch.Size([455, 30])"
            ]
          },
          "metadata": {},
          "execution_count": 88
        }
      ]
    },
    {
      "cell_type": "code",
      "source": [
        "y_train.shape"
      ],
      "metadata": {
        "colab": {
          "base_uri": "https://localhost:8080/"
        },
        "id": "rpV9Q5841IqH",
        "outputId": "e5c06b3e-5534-45a0-93cd-a7066ab7e4b9"
      },
      "execution_count": 89,
      "outputs": [
        {
          "output_type": "execute_result",
          "data": {
            "text/plain": [
              "torch.Size([455, 1])"
            ]
          },
          "metadata": {},
          "execution_count": 89
        }
      ]
    },
    {
      "cell_type": "code",
      "source": [
        "num_epochs=100\n",
        "for epoch in range(num_epochs):\n",
        "  y_pred=model(X_train)\n",
        "  loss=criterion(y_pred,y_train)\n",
        "  loss.backward()\n",
        "  optim.step()\n",
        "  optim.zero_grad()\n",
        "\n",
        "  if (epoch+1)%10==0:\n",
        "    print(f'Epoch{epoch+1}  loss{loss.item():.2f}')\n",
        "\n",
        "\n",
        "with torch.no_grad():\n",
        "  y_pred=model(X_test)\n",
        "  y_pred_cls=y_pred.round()\n",
        "  acc=y_pred_cls.eq(y_test).sum()/float(y_test.shape[0])\n",
        "  print(f'Accuracy:{acc}')\n"
      ],
      "metadata": {
        "colab": {
          "base_uri": "https://localhost:8080/"
        },
        "id": "wmuG0ZPr0I5t",
        "outputId": "add350a7-fab8-420a-d58b-4b9e37718d55"
      },
      "execution_count": 90,
      "outputs": [
        {
          "output_type": "stream",
          "name": "stdout",
          "text": [
            "Epoch10  loss0.69\n",
            "Epoch20  loss0.56\n",
            "Epoch30  loss0.49\n",
            "Epoch40  loss0.43\n",
            "Epoch50  loss0.39\n",
            "Epoch60  loss0.36\n",
            "Epoch70  loss0.34\n",
            "Epoch80  loss0.32\n",
            "Epoch90  loss0.31\n",
            "Epoch100  loss0.29\n",
            "Accuracy:0.9561403393745422\n"
          ]
        }
      ]
    },
    {
      "cell_type": "code",
      "source": [
        "print(y_test[:10])"
      ],
      "metadata": {
        "colab": {
          "base_uri": "https://localhost:8080/"
        },
        "id": "TFxRcoUH10NZ",
        "outputId": "53e576d0-0042-42af-e5e0-655483660e71"
      },
      "execution_count": 91,
      "outputs": [
        {
          "output_type": "stream",
          "name": "stdout",
          "text": [
            "tensor([[1.],\n",
            "        [0.],\n",
            "        [0.],\n",
            "        [1.],\n",
            "        [1.],\n",
            "        [0.],\n",
            "        [0.],\n",
            "        [0.],\n",
            "        [1.],\n",
            "        [1.]])\n"
          ]
        }
      ]
    },
    {
      "cell_type": "code",
      "source": [
        "for i in range(y_pred.shape[0]):\n",
        "    if y_pred[i] >= 0.5:\n",
        "        y_pred[i] = 1\n",
        "    else:\n",
        "        y_pred[i] = 0\n"
      ],
      "metadata": {
        "id": "91DPH8EZ15RE"
      },
      "execution_count": 92,
      "outputs": []
    },
    {
      "cell_type": "code",
      "source": [
        "y_pred[:10]"
      ],
      "metadata": {
        "colab": {
          "base_uri": "https://localhost:8080/"
        },
        "id": "n_N80USV1_nu",
        "outputId": "6e42a62d-ea00-4225-c4df-7802f0532ea1"
      },
      "execution_count": 93,
      "outputs": [
        {
          "output_type": "execute_result",
          "data": {
            "text/plain": [
              "tensor([[1.],\n",
              "        [0.],\n",
              "        [0.],\n",
              "        [1.],\n",
              "        [1.],\n",
              "        [0.],\n",
              "        [0.],\n",
              "        [0.],\n",
              "        [0.],\n",
              "        [1.]])"
            ]
          },
          "metadata": {},
          "execution_count": 93
        }
      ]
    },
    {
      "cell_type": "code",
      "source": [],
      "metadata": {
        "id": "7c6Zv-lN2fH_"
      },
      "execution_count": 93,
      "outputs": []
    }
  ]
}