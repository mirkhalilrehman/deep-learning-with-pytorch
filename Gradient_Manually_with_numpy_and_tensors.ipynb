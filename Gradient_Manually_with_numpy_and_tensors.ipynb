{
  "nbformat": 4,
  "nbformat_minor": 0,
  "metadata": {
    "colab": {
      "provenance": []
    },
    "kernelspec": {
      "name": "python3",
      "display_name": "Python 3"
    },
    "language_info": {
      "name": "python"
    }
  },
  "cells": [
    {
      "cell_type": "code",
      "execution_count": 8,
      "metadata": {
        "colab": {
          "base_uri": "https://localhost:8080/"
        },
        "id": "b98Cdut8cLMR",
        "outputId": "b279e181-b5d9-47e3-beae-a66e95b77af6"
      },
      "outputs": [
        {
          "output_type": "stream",
          "name": "stdout",
          "text": [
            "prediction before training 0.0\n",
            "epoch0,loss30.00,weight1.20\n",
            "epoch2,loss0.77,weight1.87\n",
            "epoch4,loss0.02,weight1.98\n",
            "epoch6,loss0.00,weight2.00\n",
            "epoch8,loss0.00,weight2.00\n",
            "prediction after training 9.998951268196105\n"
          ]
        }
      ],
      "source": [
        "import numpy as np\n",
        "#f=w*x\n",
        "#y=f=2*x\n",
        "\n",
        "x=np.array([1,2,3,4],dtype=np.float32)\n",
        "y=np.array([2,4,6,8],dtype=np.float32)\n",
        "\n",
        "w=0.0\n",
        "\n",
        "def forward(x):\n",
        "  return w*x\n",
        "\n",
        "def loss(y,y_pred):\n",
        "  return ((y_pred-y)**2).mean()\n",
        "\n",
        "def gradient(x,y,y_pred):\n",
        "  return np.dot(2*x,y_pred-y).mean()\n",
        "\n",
        "\n",
        "print(\"prediction before training\",forward(5))\n",
        "\n",
        "lr=0.01\n",
        "n_iter=10\n",
        "for epoch in range(n_iter):\n",
        "  y_pred=forward(x)\n",
        "\n",
        "  l=loss(y_pred,y)\n",
        "\n",
        "  dw=gradient(x,y,y_pred)\n",
        "\n",
        "  w-=lr*dw\n",
        "\n",
        "  if epoch%2==0:\n",
        "    print(f'epoch{epoch},loss{l:.2f},weight{w:.2f}')\n",
        "\n",
        "print(\"prediction after training\",forward(5))\n"
      ]
    },
    {
      "cell_type": "code",
      "source": [
        "import torch\n",
        "#f=w*x\n",
        "#y=f=2*x\n",
        "\n",
        "x=torch.tensor([1,2,3,4],dtype=torch.float32)\n",
        "y=torch.tensor([2,4,6,8],dtype=torch.float32)\n",
        "w=torch.tensor(0.0,dtype=torch.float32,requires_grad=True)\n",
        "\n",
        "\n",
        "def forward(x):\n",
        "  return w*x\n",
        "\n",
        "def loss(y,y_pred):\n",
        "  return ((y_pred-y)**2).mean()\n",
        "\n",
        "\n",
        "print(\"prediction before training\",forward(5))\n",
        "\n",
        "lr=0.01\n",
        "n_iter=100\n",
        "for epoch in range(n_iter):\n",
        "  y_pred=forward(x)\n",
        "\n",
        "  l=loss(y_pred,y)\n",
        "\n",
        "  l.backward()\n",
        "  with torch.no_grad():\n",
        "      w-=lr*w.grad\n",
        "\n",
        "  w.grad.zero_()\n",
        "\n",
        "  if epoch%10==0:\n",
        "    print(f'epoch{epoch},   loss{l:.2f},   weight{w:.2f}')\n",
        "\n",
        "print(\"prediction after training\",forward(5))\n"
      ],
      "metadata": {
        "colab": {
          "base_uri": "https://localhost:8080/"
        },
        "id": "mr6JDG49gkpz",
        "outputId": "ceb9306c-c6fb-4281-c75c-5543beae28e3"
      },
      "execution_count": 13,
      "outputs": [
        {
          "output_type": "stream",
          "name": "stdout",
          "text": [
            "prediction before training tensor(0., grad_fn=<MulBackward0>)\n",
            "epoch0,   loss30.00,   weight0.30\n",
            "epoch10,   loss1.16,   weight1.67\n",
            "epoch20,   loss0.05,   weight1.93\n",
            "epoch30,   loss0.00,   weight1.99\n",
            "epoch40,   loss0.00,   weight2.00\n",
            "epoch50,   loss0.00,   weight2.00\n",
            "epoch60,   loss0.00,   weight2.00\n",
            "epoch70,   loss0.00,   weight2.00\n",
            "epoch80,   loss0.00,   weight2.00\n",
            "epoch90,   loss0.00,   weight2.00\n",
            "prediction after training tensor(10.0000, grad_fn=<MulBackward0>)\n"
          ]
        }
      ]
    },
    {
      "cell_type": "code",
      "source": [],
      "metadata": {
        "id": "EyptWntdjc2_"
      },
      "execution_count": null,
      "outputs": []
    }
  ]
}