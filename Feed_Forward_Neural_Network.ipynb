{
  "nbformat": 4,
  "nbformat_minor": 0,
  "metadata": {
    "colab": {
      "provenance": []
    },
    "kernelspec": {
      "name": "python3",
      "display_name": "Python 3"
    },
    "language_info": {
      "name": "python"
    }
  },
  "cells": [
    {
      "cell_type": "code",
      "execution_count": 3,
      "metadata": {
        "id": "Ehs-APw0e7fx"
      },
      "outputs": [],
      "source": [
        "import torch\n",
        "import torch.nn as nn\n",
        "import torch.nn.functional as F\n",
        "import torchvision\n",
        "import torchvision.transforms as transforms\n",
        "import matplotlib.pyplot as plt\n"
      ]
    },
    {
      "cell_type": "code",
      "source": [
        "device=torch.device('cuda' if torch.cuda.is_available() else 'cpu')"
      ],
      "metadata": {
        "id": "9NTDXb2AhbCG"
      },
      "execution_count": 6,
      "outputs": []
    },
    {
      "cell_type": "code",
      "source": [
        "input_size=784  #28*28\n",
        "hidden_size=100\n",
        "num_classes=10\n",
        "epochs=2\n",
        "batch_size=100\n",
        "lr=0.001\n"
      ],
      "metadata": {
        "id": "TvKiJoQIhrMi"
      },
      "execution_count": 7,
      "outputs": []
    },
    {
      "cell_type": "code",
      "source": [],
      "metadata": {
        "id": "E7TyN0fpiJzn"
      },
      "execution_count": null,
      "outputs": []
    },
    {
      "cell_type": "code",
      "source": [
        "traindataset=torchvision.datasets.MNIST(root='./data',train=True,transform=transforms.ToTensor(),download=True)"
      ],
      "metadata": {
        "id": "ij5jhzRciDYX"
      },
      "execution_count": 10,
      "outputs": []
    },
    {
      "cell_type": "code",
      "source": [
        "testdataset=torchvision.datasets.MNIST(root='./data',train=False,transform=transforms.ToTensor())"
      ],
      "metadata": {
        "id": "9WCXzUkwifx1"
      },
      "execution_count": 13,
      "outputs": []
    },
    {
      "cell_type": "code",
      "source": [
        "print(len(traindataset),len(testdataset))"
      ],
      "metadata": {
        "colab": {
          "base_uri": "https://localhost:8080/"
        },
        "id": "S4aQ5PphiwUq",
        "outputId": "81a2449c-9b72-471f-91bc-ccd27766eeb2"
      },
      "execution_count": 14,
      "outputs": [
        {
          "output_type": "stream",
          "name": "stdout",
          "text": [
            "60000 10000\n"
          ]
        }
      ]
    },
    {
      "cell_type": "code",
      "source": [
        "trainloader=torch.utils.data.DataLoader(traindataset,batch_size,shuffle=True)\n",
        "testloader=torch.utils.data.DataLoader(testdataset,batch_size,shuffle=False)"
      ],
      "metadata": {
        "id": "_t8Eg9sNjNhm"
      },
      "execution_count": 16,
      "outputs": []
    },
    {
      "cell_type": "code",
      "source": [
        "firstdata=iter(trainloader)\n",
        "samples,labels=next(firstdata)\n",
        "print('sample',samples.shape,'Labels',labels.shape)"
      ],
      "metadata": {
        "colab": {
          "base_uri": "https://localhost:8080/"
        },
        "id": "2kbs07KJj1GC",
        "outputId": "7dc65740-dde8-44e5-9ae7-c9d43623d721"
      },
      "execution_count": 22,
      "outputs": [
        {
          "output_type": "stream",
          "name": "stdout",
          "text": [
            "sample torch.Size([100, 1, 28, 28]) Labels torch.Size([100])\n"
          ]
        }
      ]
    },
    {
      "cell_type": "code",
      "source": [
        "for i in range(6):\n",
        "  plt.subplot(2,3,i+1)\n",
        "  plt.imshow(samples[i][0],cmap='gray')\n",
        "\n",
        "plt.show()"
      ],
      "metadata": {
        "colab": {
          "base_uri": "https://localhost:8080/",
          "height": 411
        },
        "id": "5vyC7eQxk1HJ",
        "outputId": "c7b6c1c0-1509-4a98-f383-5599e26acc9b"
      },
      "execution_count": 23,
      "outputs": [
        {
          "output_type": "display_data",
          "data": {
            "text/plain": [
              "<Figure size 640x480 with 6 Axes>"
            ],
            "image/png": "[encoded data removed]"
          },
          "metadata": {}
        }
      ]
    },
    {
      "cell_type": "code",
      "source": [
        "class NeuralNet(nn.Module):\n",
        "  def __init__(self,input_size,hidden_size,output_size):\n",
        "    super(NeuralNet,self).__init__()\n",
        "    self.l1=nn.Linear(input_size,hidden_size)\n",
        "    self.relu=nn.ReLU()\n",
        "    self.l2=nn.Linear(hidden_size,output_size)\n",
        "\n",
        "  def forward(self,x):\n",
        "    out=self.l1(x)\n",
        "    out=self.relu(out)\n",
        "    out=self.l2(out)\n",
        "    return out\n"
      ],
      "metadata": {
        "id": "gHCVNJcmk1Dm"
      },
      "execution_count": 24,
      "outputs": []
    },
    {
      "cell_type": "code",
      "source": [
        "model=NeuralNet(input_size,hidden_size,num_classes)\n"
      ],
      "metadata": {
        "id": "SAcKGq6xk1A_"
      },
      "execution_count": 25,
      "outputs": []
    },
    {
      "cell_type": "code",
      "source": [
        "criterion=nn.CrossEntropyLoss()\n",
        "optim=torch.optim.Adam(model.parameters(),lr=lr)"
      ],
      "metadata": {
        "id": "QxoMZ4pbk0-d"
      },
      "execution_count": 27,
      "outputs": []
    },
    {
      "cell_type": "code",
      "source": [
        "total_step=len(trainloader)\n",
        "for epoch in range(epochs):\n",
        "  for i ,(images,labels) in enumerate(trainloader):\n",
        "    #(100 1 28 28)->(100,784)\n",
        "    images=images.reshape(-1,28*28).to(device)\n",
        "    labels=labels.to(device)\n",
        "\n",
        "    outputs=model(images)\n",
        "    loss=criterion(outputs,labels)\n",
        "\n",
        "\n",
        "    optim.zero_grad()\n",
        "    loss.backward()\n",
        "\n",
        "    optim.step()\n",
        "\n",
        "    if(i+1)%100==0:\n",
        "      print(f'Epoch {epoch}/{epochs} , step {i+1}/{total_step} , loss ={loss.item():.3f}')\n",
        "\n",
        "\n"
      ],
      "metadata": {
        "colab": {
          "base_uri": "https://localhost:8080/"
        },
        "id": "lNppHDSak08H",
        "outputId": "1f5610df-1267-4305-e6c5-a88144fb843f"
      },
      "execution_count": 28,
      "outputs": [
        {
          "output_type": "stream",
          "name": "stdout",
          "text": [
            "Epoch 0/2 , step 100/600 , loss =0.446\n",
            "Epoch 0/2 , step 200/600 , loss =0.458\n",
            "Epoch 0/2 , step 300/600 , loss =0.313\n",
            "Epoch 0/2 , step 400/600 , loss =0.257\n",
            "Epoch 0/2 , step 500/600 , loss =0.312\n",
            "Epoch 0/2 , step 600/600 , loss =0.191\n",
            "Epoch 1/2 , step 100/600 , loss =0.116\n",
            "Epoch 1/2 , step 200/600 , loss =0.225\n",
            "Epoch 1/2 , step 300/600 , loss =0.104\n",
            "Epoch 1/2 , step 400/600 , loss =0.134\n",
            "Epoch 1/2 , step 500/600 , loss =0.223\n",
            "Epoch 1/2 , step 600/600 , loss =0.087\n"
          ]
        }
      ]
    },
    {
      "cell_type": "code",
      "source": [
        "with torch.no_grad():\n",
        "  n_correct=0\n",
        "  n_sample=0\n",
        "  for images,labels in testloader:\n",
        "     images=images.reshape(-1,28*28).to(device)\n",
        "     labels=labels.to(device)\n",
        "\n",
        "     outputs=model(images)\n",
        "\n",
        "     _,predictions=torch.max(outputs,1)\n",
        "     n_sample +=labels.shape[0]\n",
        "     n_correct +=(predictions==labels).sum().item()\n",
        "\n",
        "  acc=100.0*n_correct /n_sample\n",
        "  print(\"accuracy \",acc)\n"
      ],
      "metadata": {
        "colab": {
          "base_uri": "https://localhost:8080/"
        },
        "id": "APZZ4-Q5k06E",
        "outputId": "ef3c39ac-a0c1-4895-cf23-374d867ccd66"
      },
      "execution_count": 29,
      "outputs": [
        {
          "output_type": "stream",
          "name": "stdout",
          "text": [
            "accuracy  95.09\n"
          ]
        }
      ]
    },
    {
      "cell_type": "code",
      "source": [],
      "metadata": {
        "id": "R2Qbo_yufNCX"
      },
      "execution_count": null,
      "outputs": []
    }
  ]
}