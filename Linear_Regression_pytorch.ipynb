{
 "cells": [
  {
   "cell_type": "markdown",
   "metadata": {
    "id": "jSjRrW9fakEu"
   },
   "source": [
    "Linear regression model from scratch"
   ]
  },
  {
   "cell_type": "code",
   "execution_count": 16,
   "metadata": {
    "id": "UpeiAd5aT2bR"
   },
   "outputs": [],
   "source": [
    "import numpy as np\n",
    "import torch"
   ]
  },
  {
   "cell_type": "code",
   "execution_count": 17,
   "metadata": {
    "id": "pFuo3HsDZ52-"
   },
   "outputs": [],
   "source": [
    "inputs = np.array([[73, 67, 43],\n",
    "                   [91, 88, 64],\n",
    "                   [87, 134, 58],\n",
    "                   [102, 43, 37],\n",
    "                   [69, 96, 70]],dtype='float32')"
   ]
  },
  {
   "cell_type": "code",
   "execution_count": 18,
   "metadata": {
    "id": "fQ7sB4gvaU3e"
   },
   "outputs": [],
   "source": [
    "targets = np.array([[56, 70],\n",
    "                    [81, 101],\n",
    "                    [119, 133],\n",
    "                    [22, 37],\n",
    "                    [103, 119]], dtype='float32')"
   ]
  },
  {
   "cell_type": "code",
   "execution_count": 19,
   "metadata": {
    "id": "0elXCvUQaWym"
   },
   "outputs": [],
   "source": [
    "inputs=torch.from_numpy(inputs)\n",
    "targets=torch.from_numpy(targets)\n"
   ]
  },
  {
   "cell_type": "code",
   "execution_count": 20,
   "metadata": {
    "id": "FjGjlKYoagxr"
   },
   "outputs": [],
   "source": [
    "w=torch.rand(2,3,requires_grad=True)\n",
    "b=torch.rand(2,requires_grad=True)"
   ]
  },
  {
   "cell_type": "code",
   "execution_count": 21,
   "metadata": {
    "colab": {
     "base_uri": "https://localhost:8080/"
    },
    "id": "bXih5k0bav60",
    "outputId": "e83f1614-d474-4b8a-81e6-4d29bc6933e5"
   },
   "outputs": [
    {
     "data": {
      "text/plain": [
       "(tensor([[ 73.,  67.,  43.],\n",
       "         [ 91.,  88.,  64.],\n",
       "         [ 87., 134.,  58.],\n",
       "         [102.,  43.,  37.],\n",
       "         [ 69.,  96.,  70.]]),\n",
       " tensor([[ 56.,  70.],\n",
       "         [ 81., 101.],\n",
       "         [119., 133.],\n",
       "         [ 22.,  37.],\n",
       "         [103., 119.]]),\n",
       " tensor([[0.7875, 0.0579, 0.5037],\n",
       "         [0.0778, 0.9998, 0.3908]], requires_grad=True),\n",
       " tensor([0.5455, 0.0356], requires_grad=True))"
      ]
     },
     "execution_count": 21,
     "metadata": {},
     "output_type": "execute_result"
    }
   ],
   "source": [
    "inputs,targets,w,b"
   ]
  },
  {
   "cell_type": "code",
   "execution_count": 22,
   "metadata": {
    "id": "oHdVlOMFazJh"
   },
   "outputs": [],
   "source": [
    "def model(x):\n",
    "  return x @ w.t() +b"
   ]
  },
  {
   "cell_type": "code",
   "execution_count": 23,
   "metadata": {
    "colab": {
     "base_uri": "https://localhost:8080/"
    },
    "id": "-GwOK6yXa-MR",
    "outputId": "4ffe9853-272f-407e-e594-e96613da422c"
   },
   "outputs": [
    {
     "data": {
      "text/plain": [
       "tensor([[ 83.5729,  89.5058],\n",
       "        [109.5422, 120.1085],\n",
       "        [106.0334, 163.4423],\n",
       "        [101.9985,  65.4236],\n",
       "        [ 95.7027, 128.7390]], grad_fn=<AddBackward0>)"
      ]
     },
     "execution_count": 23,
     "metadata": {},
     "output_type": "execute_result"
    }
   ],
   "source": [
    "preds=model(inputs)\n",
    "preds"
   ]
  },
  {
   "cell_type": "code",
   "execution_count": 24,
   "metadata": {
    "colab": {
     "base_uri": "https://localhost:8080/"
    },
    "id": "IZV4WCnLbCez",
    "outputId": "04dba945-557c-4dac-d817-043fa84e302d"
   },
   "outputs": [
    {
     "data": {
      "text/plain": [
       "tensor([[ 56.,  70.],\n",
       "        [ 81., 101.],\n",
       "        [119., 133.],\n",
       "        [ 22.,  37.],\n",
       "        [103., 119.]])"
      ]
     },
     "execution_count": 24,
     "metadata": {},
     "output_type": "execute_result"
    }
   ],
   "source": [
    "targets"
   ]
  },
  {
   "cell_type": "markdown",
   "metadata": {
    "id": "2QOC2kQRbOXw"
   },
   "source": [
    "Evaluate MSE"
   ]
  },
  {
   "cell_type": "code",
   "execution_count": 25,
   "metadata": {
    "id": "2GUp_H3QbFH9"
   },
   "outputs": [],
   "source": [
    "def mse(t1,t2):\n",
    "  diff=t1-t2\n",
    "  return torch.sum(diff*diff)/ diff.numel()"
   ]
  },
  {
   "cell_type": "code",
   "execution_count": 26,
   "metadata": {
    "colab": {
     "base_uri": "https://localhost:8080/"
    },
    "id": "dS5D3A5zbbIn",
    "outputId": "76c71ee0-f36d-4be1-b381-768745af5fd2"
   },
   "outputs": [
    {
     "data": {
      "text/plain": [
       "tensor(1077.1155, grad_fn=<DivBackward0>)"
      ]
     },
     "execution_count": 26,
     "metadata": {},
     "output_type": "execute_result"
    }
   ],
   "source": [
    "loss=mse(preds,targets)\n",
    "loss"
   ]
  },
  {
   "cell_type": "code",
   "execution_count": 27,
   "metadata": {
    "colab": {
     "base_uri": "https://localhost:8080/"
    },
    "id": "WcsUKWdibhax",
    "outputId": "6bb157c3-1fc3-4674-9c12-e2f080e5bf5f"
   },
   "outputs": [
    {
     "name": "stdout",
     "output_type": "stream",
     "text": [
      "tensor([[2227.6787, 1072.1920,  941.8801],\n",
      "        [1876.4957, 1844.9728, 1112.1504]])\n",
      "tensor([23.1699, 21.4438])\n"
     ]
    }
   ],
   "source": [
    "loss.backward()\n",
    "print(w.grad)\n",
    "print(b.grad)"
   ]
  },
  {
   "cell_type": "code",
   "execution_count": 28,
   "metadata": {
    "id": "fqsiAWNle7O7"
   },
   "outputs": [],
   "source": [
    "with torch.no_grad():\n",
    "  w-=w.grad*1e-5\n",
    "  b-=b.grad*1e-5\n"
   ]
  },
  {
   "cell_type": "code",
   "execution_count": 30,
   "metadata": {
    "colab": {
     "base_uri": "https://localhost:8080/"
    },
    "id": "3Ao_2oPqfIBi",
    "outputId": "17385347-6f2a-44d9-e624-60659ec9e22c"
   },
   "outputs": [
    {
     "data": {
      "text/plain": [
       "tensor(1077.1155, grad_fn=<DivBackward0>)"
      ]
     },
     "execution_count": 30,
     "metadata": {},
     "output_type": "execute_result"
    }
   ],
   "source": [
    "mse(preds,targets)"
   ]
  },
  {
   "cell_type": "code",
   "execution_count": 31,
   "metadata": {
    "colab": {
     "base_uri": "https://localhost:8080/"
    },
    "id": "UEIHh0hMfPpD",
    "outputId": "8f9a095c-b843-42c3-85c8-87862929a2ce"
   },
   "outputs": [
    {
     "name": "stdout",
     "output_type": "stream",
     "text": [
      "tensor([[0., 0., 0.],\n",
      "        [0., 0., 0.]])\n",
      "tensor([0., 0.])\n"
     ]
    }
   ],
   "source": [
    "w.grad.zero_()\n",
    "b.grad.zero_()\n",
    "print(w.grad)\n",
    "print(b.grad)"
   ]
  },
  {
   "cell_type": "markdown",
   "metadata": {
    "id": "W_T1bZU8fbew"
   },
   "source": [
    "Train for multiple epochs"
   ]
  },
  {
   "cell_type": "code",
   "execution_count": 38,
   "metadata": {
    "id": "G2mAZqMFfUzX"
   },
   "outputs": [],
   "source": [
    "for i in range(100):\n",
    "  preds=model(inputs)\n",
    "  loss=mse(preds,targets)\n",
    "  loss.backward()\n",
    "  with torch.no_grad():\n",
    "    w-=w.grad*1e-5\n",
    "    b-=b.grad*1e-5\n",
    "    w.grad.zero_()\n",
    "    b.grad.zero_()"
   ]
  },
  {
   "cell_type": "code",
   "execution_count": 39,
   "metadata": {
    "colab": {
     "base_uri": "https://localhost:8080/"
    },
    "id": "3OBpID66foIe",
    "outputId": "c81061ad-ed5b-47ee-b1e1-11ecbabcfd70"
   },
   "outputs": [
    {
     "data": {
      "text/plain": [
       "tensor(25.4740, grad_fn=<DivBackward0>)"
      ]
     },
     "execution_count": 39,
     "metadata": {},
     "output_type": "execute_result"
    }
   ],
   "source": [
    "preds=model(inputs)\n",
    "loss=mse(preds,targets)\n",
    "loss"
   ]
  },
  {
   "cell_type": "code",
   "execution_count": 40,
   "metadata": {
    "colab": {
     "base_uri": "https://localhost:8080/"
    },
    "id": "iPcGL9mff_r6",
    "outputId": "5171cee4-88bc-4206-cf53-377ce6e1f445"
   },
   "outputs": [
    {
     "data": {
      "text/plain": [
       "tensor([[ 58.9812,  70.9203],\n",
       "        [ 82.6979,  97.6079],\n",
       "        [114.6585, 138.9405],\n",
       "        [ 31.0395,  40.1846],\n",
       "        [ 97.0696, 111.9677]], grad_fn=<AddBackward0>)"
      ]
     },
     "execution_count": 40,
     "metadata": {},
     "output_type": "execute_result"
    }
   ],
   "source": [
    "preds"
   ]
  },
  {
   "cell_type": "code",
   "execution_count": 41,
   "metadata": {
    "colab": {
     "base_uri": "https://localhost:8080/"
    },
    "id": "rMzJmAHZgGwR",
    "outputId": "398c8fd7-2518-413a-acbe-19c494241cf7"
   },
   "outputs": [
    {
     "data": {
      "text/plain": [
       "tensor([[ 56.,  70.],\n",
       "        [ 81., 101.],\n",
       "        [119., 133.],\n",
       "        [ 22.,  37.],\n",
       "        [103., 119.]])"
      ]
     },
     "execution_count": 41,
     "metadata": {},
     "output_type": "execute_result"
    }
   ],
   "source": [
    "targets"
   ]
  },
  {
   "cell_type": "markdown",
   "metadata": {
    "id": "eDVkHE62gSOg"
   },
   "source": [
    "Linear regression using PyTorch built-ins"
   ]
  },
  {
   "cell_type": "code",
   "execution_count": 42,
   "metadata": {
    "id": "_ca0-l2YgIT3"
   },
   "outputs": [],
   "source": [
    "import torch.nn as nn"
   ]
  },
  {
   "cell_type": "code",
   "execution_count": 43,
   "metadata": {
    "id": "Jzn_Q1j_lVu5"
   },
   "outputs": [],
   "source": [
    "# Input (temp, rainfall, humidity)\n",
    "inputs = np.array([[73, 67, 43],\n",
    "                   [91, 88, 64],\n",
    "                   [87, 134, 58],\n",
    "                   [102, 43, 37],\n",
    "                   [69, 96, 70],\n",
    "                   [74, 66, 43],\n",
    "                   [91, 87, 65],\n",
    "                   [88, 134, 59],\n",
    "                   [101, 44, 37],\n",
    "                   [68, 96, 71],\n",
    "                   [73, 66, 44],\n",
    "                   [92, 87, 64],\n",
    "                   [87, 135, 57],\n",
    "                   [103, 43, 36],\n",
    "                   [68, 97, 70]],\n",
    "                  dtype='float32')\n",
    "\n",
    "# Targets (apples, oranges)\n",
    "targets = np.array([[56, 70],\n",
    "                    [81, 101],\n",
    "                    [119, 133],\n",
    "                    [22, 37],\n",
    "                    [103, 119],\n",
    "                    [57, 69],\n",
    "                    [80, 102],\n",
    "                    [118, 132],\n",
    "                    [21, 38],\n",
    "                    [104, 118],\n",
    "                    [57, 69],\n",
    "                    [82, 100],\n",
    "                    [118, 134],\n",
    "                    [20, 38],\n",
    "                    [102, 120]],\n",
    "                   dtype='float32')\n",
    "\n",
    "inputs = torch.from_numpy(inputs)\n",
    "targets = torch.from_numpy(targets)"
   ]
  },
  {
   "cell_type": "code",
   "execution_count": 44,
   "metadata": {
    "id": "j1X48fwnlZAd"
   },
   "outputs": [],
   "source": [
    "from torch.utils.data import TensorDataset"
   ]
  },
  {
   "cell_type": "code",
   "execution_count": 45,
   "metadata": {
    "id": "qbs7oXLulhUw"
   },
   "outputs": [],
   "source": [
    "train_ds=TensorDataset(inputs,targets)"
   ]
  },
  {
   "cell_type": "code",
   "execution_count": 48,
   "metadata": {
    "colab": {
     "base_uri": "https://localhost:8080/"
    },
    "id": "tnMCwKW5llv4",
    "outputId": "69f89afe-a36a-4bc4-c682-8a417138e3e5"
   },
   "outputs": [
    {
     "data": {
      "text/plain": [
       "(tensor([[ 73.,  67.,  43.],\n",
       "         [ 91.,  88.,  64.],\n",
       "         [ 87., 134.,  58.]]),\n",
       " tensor([[ 56.,  70.],\n",
       "         [ 81., 101.],\n",
       "         [119., 133.]]))"
      ]
     },
     "execution_count": 48,
     "metadata": {},
     "output_type": "execute_result"
    }
   ],
   "source": [
    "train_ds[:3]"
   ]
  },
  {
   "cell_type": "code",
   "execution_count": 52,
   "metadata": {
    "id": "4roWymDilnpG"
   },
   "outputs": [],
   "source": [
    "from torch.utils.data import DataLoader"
   ]
  },
  {
   "cell_type": "code",
   "execution_count": 54,
   "metadata": {
    "id": "QxFmsLOAlyha"
   },
   "outputs": [],
   "source": [
    "batch_size=5\n",
    "train_dl=DataLoader(train_ds,batch_size,shuffle=True)"
   ]
  },
  {
   "cell_type": "code",
   "execution_count": 56,
   "metadata": {
    "colab": {
     "base_uri": "https://localhost:8080/"
    },
    "id": "eCPJrT4amGsB",
    "outputId": "8978d6c0-5562-4776-a91e-6a160894530a"
   },
   "outputs": [
    {
     "name": "stdout",
     "output_type": "stream",
     "text": [
      "tensor([[ 68.,  97.,  70.],\n",
      "        [ 73.,  66.,  44.],\n",
      "        [ 92.,  87.,  64.],\n",
      "        [ 73.,  67.,  43.],\n",
      "        [103.,  43.,  36.]])\n",
      "tensor([[102., 120.],\n",
      "        [ 57.,  69.],\n",
      "        [ 82., 100.],\n",
      "        [ 56.,  70.],\n",
      "        [ 20.,  38.]])\n"
     ]
    }
   ],
   "source": [
    "for xb,yb in train_dl:\n",
    "  print(xb)\n",
    "  print(yb)\n",
    "  break"
   ]
  },
  {
   "cell_type": "code",
   "execution_count": 59,
   "metadata": {
    "colab": {
     "base_uri": "https://localhost:8080/"
    },
    "id": "OexkpuvimQHH",
    "outputId": "c58447a1-5023-4cb8-b6f4-a00aa4c17160"
   },
   "outputs": [
    {
     "name": "stdout",
     "output_type": "stream",
     "text": [
      "Parameter containing:\n",
      "tensor([[ 0.1073,  0.4482,  0.2922],\n",
      "        [-0.3507,  0.3393, -0.3011]], requires_grad=True)\n",
      "Parameter containing:\n",
      "tensor([-0.5527, -0.1296], requires_grad=True)\n"
     ]
    }
   ],
   "source": [
    "model=nn.Linear(3,2)\n",
    "print(model.weight)\n",
    "print(model.bias)"
   ]
  },
  {
   "cell_type": "code",
   "execution_count": 62,
   "metadata": {
    "colab": {
     "base_uri": "https://localhost:8080/"
    },
    "id": "vcdBKKyyma6v",
    "outputId": "0a476d09-c33a-4df8-daea-f9ae0158f67d"
   },
   "outputs": [
    {
     "data": {
      "text/plain": [
       "[Parameter containing:\n",
       " tensor([[ 0.1073,  0.4482,  0.2922],\n",
       "         [-0.3507,  0.3393, -0.3011]], requires_grad=True),\n",
       " Parameter containing:\n",
       " tensor([-0.5527, -0.1296], requires_grad=True)]"
      ]
     },
     "execution_count": 62,
     "metadata": {},
     "output_type": "execute_result"
    }
   ],
   "source": [
    "list(model.parameters())"
   ]
  },
  {
   "cell_type": "code",
   "execution_count": 63,
   "metadata": {
    "colab": {
     "base_uri": "https://localhost:8080/"
    },
    "id": "F7D_VqyUmkWk",
    "outputId": "8c8d5d4c-dbb2-4cc7-9854-375a8a5828a9"
   },
   "outputs": [
    {
     "data": {
      "text/plain": [
       "tensor([[ 49.8716, -15.9477],\n",
       "        [ 67.3504, -21.4585],\n",
       "        [ 85.7835,  -2.6429],\n",
       "        [ 40.4747, -32.4551],\n",
       "        [ 70.3280, -12.8345],\n",
       "        [ 49.5308, -16.6377],\n",
       "        [ 67.1945, -22.0988],\n",
       "        [ 86.1830,  -3.2947],\n",
       "        [ 40.8155, -31.7651],\n",
       "        [ 70.5128, -12.7848],\n",
       "        [ 49.7156, -16.5880],\n",
       "        [ 67.0096, -22.1485],\n",
       "        [ 85.9394,  -2.0026],\n",
       "        [ 40.2898, -32.5048],\n",
       "        [ 70.6688, -12.1445]], grad_fn=<AddmmBackward0>)"
      ]
     },
     "execution_count": 63,
     "metadata": {},
     "output_type": "execute_result"
    }
   ],
   "source": [
    "preds=model(inputs)\n",
    "preds"
   ]
  },
  {
   "cell_type": "code",
   "execution_count": 64,
   "metadata": {
    "id": "wa5BCZramv2j"
   },
   "outputs": [],
   "source": [
    "import torch.nn.functional as f"
   ]
  },
  {
   "cell_type": "code",
   "execution_count": 65,
   "metadata": {
    "id": "V5Rc0r3gm2HK"
   },
   "outputs": [],
   "source": [
    "loss_fn=f.mse_loss"
   ]
  },
  {
   "cell_type": "code",
   "execution_count": 66,
   "metadata": {
    "colab": {
     "base_uri": "https://localhost:8080/"
    },
    "id": "bc2uKIDkm9Ik",
    "outputId": "b87d19b3-0a1c-4292-a075-0bc762593503"
   },
   "outputs": [
    {
     "name": "stdout",
     "output_type": "stream",
     "text": [
      "tensor(6578.4561, grad_fn=<MseLossBackward0>)\n"
     ]
    }
   ],
   "source": [
    "loss = loss_fn(model(inputs), targets)\n",
    "print(loss)"
   ]
  },
  {
   "cell_type": "code",
   "execution_count": 68,
   "metadata": {
    "id": "XyNX0izHm_hd"
   },
   "outputs": [],
   "source": [
    "opt=torch.optim.SGD(model.parameters(),lr=1e-5)"
   ]
  },
  {
   "cell_type": "markdown",
   "metadata": {
    "id": "pStlbkydnOm0"
   },
   "source": [
    "FIT utility function\n"
   ]
  },
  {
   "cell_type": "code",
   "execution_count": 76,
   "metadata": {
    "id": "CFHyCFEYnKn8"
   },
   "outputs": [],
   "source": [
    "def fit(num_epoch,model,loss_fn,opt,train_dl):\n",
    "  for i in range(num_epoch):\n",
    "    for xb,yb in train_dl:\n",
    "        pred=model(xb)\n",
    "        loss=loss_fn(pred,yb)\n",
    "        loss.backward()\n",
    "        opt.step()\n",
    "        opt.zero_grad()\n",
    "    if (i+1) %10==0:\n",
    "        print('Epoch [{}/{}], Loss: {:.4f}'.format(i+1, num_epoch, loss.item()))\n",
    "\n"
   ]
  },
  {
   "cell_type": "code",
   "execution_count": 77,
   "metadata": {
    "colab": {
     "base_uri": "https://localhost:8080/"
    },
    "id": "rMZKe_mhnXKF",
    "outputId": "ba0a1bfb-042b-4a7e-c76a-b44eb79415d0"
   },
   "outputs": [
    {
     "name": "stdout",
     "output_type": "stream",
     "text": [
      "Epoch [10/100], Loss: 67.5748\n",
      "Epoch [20/100], Loss: 76.3302\n",
      "Epoch [30/100], Loss: 62.1726\n",
      "Epoch [40/100], Loss: 60.1464\n",
      "Epoch [50/100], Loss: 43.0253\n",
      "Epoch [60/100], Loss: 20.1133\n",
      "Epoch [70/100], Loss: 30.0594\n",
      "Epoch [80/100], Loss: 18.1402\n",
      "Epoch [90/100], Loss: 21.3823\n",
      "Epoch [100/100], Loss: 28.7029\n"
     ]
    }
   ],
   "source": [
    "fit(100,model,loss_fn,opt,train_dl)"
   ]
  },
  {
   "cell_type": "code",
   "execution_count": 80,
   "metadata": {
    "colab": {
     "base_uri": "https://localhost:8080/"
    },
    "id": "kiLePDeMoUE8",
    "outputId": "07232b19-0d07-4494-b698-ea894a3af753"
   },
   "outputs": [
    {
     "data": {
      "text/plain": [
       "tensor([[ 57.5732,  71.2129],\n",
       "        [ 80.8974,  96.5747],\n",
       "        [119.9024, 141.0896],\n",
       "        [ 24.7149,  41.7010],\n",
       "        [ 97.4930, 109.2345],\n",
       "        [ 56.3876,  70.0889],\n",
       "        [ 80.4961,  95.8939],\n",
       "        [120.0853, 141.2811],\n",
       "        [ 25.9005,  42.8251],\n",
       "        [ 98.2773, 109.6779],\n",
       "        [ 57.1719,  70.5322],\n",
       "        [ 79.7119,  95.4506],\n",
       "        [120.3037, 141.7703],\n",
       "        [ 23.9307,  41.2577],\n",
       "        [ 98.6786, 110.3586]], grad_fn=<AddmmBackward0>)"
      ]
     },
     "execution_count": 80,
     "metadata": {},
     "output_type": "execute_result"
    }
   ],
   "source": [
    "preds=model(inputs)\n",
    "preds\n"
   ]
  },
  {
   "cell_type": "code",
   "execution_count": 81,
   "metadata": {
    "colab": {
     "base_uri": "https://localhost:8080/"
    },
    "id": "59aHk6Nhojso",
    "outputId": "4240aacb-a46e-47ed-ae2c-9961a46c775f"
   },
   "outputs": [
    {
     "data": {
      "text/plain": [
       "tensor([[ 56.,  70.],\n",
       "        [ 81., 101.],\n",
       "        [119., 133.],\n",
       "        [ 22.,  37.],\n",
       "        [103., 119.],\n",
       "        [ 57.,  69.],\n",
       "        [ 80., 102.],\n",
       "        [118., 132.],\n",
       "        [ 21.,  38.],\n",
       "        [104., 118.],\n",
       "        [ 57.,  69.],\n",
       "        [ 82., 100.],\n",
       "        [118., 134.],\n",
       "        [ 20.,  38.],\n",
       "        [102., 120.]])"
      ]
     },
     "execution_count": 81,
     "metadata": {},
     "output_type": "execute_result"
    }
   ],
   "source": [
    "targets"
   ]
  },
  {
   "cell_type": "code",
   "execution_count": 82,
   "metadata": {
    "colab": {
     "base_uri": "https://localhost:8080/"
    },
    "id": "h_W_9M3AooV4",
    "outputId": "8f961e8f-c363-41c1-ec64-350365bb1af8"
   },
   "outputs": [
    {
     "data": {
      "text/plain": [
       "tensor([[53.9159, 67.2859]], grad_fn=<AddmmBackward0>)"
      ]
     },
     "execution_count": 82,
     "metadata": {},
     "output_type": "execute_result"
    }
   ],
   "source": [
    "model(torch.tensor([[75, 63, 44.]]))"
   ]
  },
  {
   "cell_type": "code",
   "execution_count": 2,
   "metadata": {},
   "outputs": [],
   "source": [
    "import matplotlib.pyplot as plt"
   ]
  },
  {
   "cell_type": "code",
   "execution_count": null,
   "metadata": {},
   "outputs": [],
   "source": []
  }
 ],
 "metadata": {
  "colab": {
   "provenance": []
  },
  "kernelspec": {
   "display_name": "Python 3",
   "name": "python3"
  },
  "language_info": {
   "codemirror_mode": {
    "name": "ipython",
    "version": 3
   },
   "file_extension": ".py",
   "mimetype": "text/x-python",
   "name": "python",
   "nbconvert_exporter": "python",
   "pygments_lexer": "ipython3",
   "version": "3.12.7"
  }
 },
 "nbformat": 4,
 "nbformat_minor": 0
}
