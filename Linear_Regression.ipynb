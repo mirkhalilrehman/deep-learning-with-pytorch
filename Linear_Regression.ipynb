{
  "nbformat": 4,
  "nbformat_minor": 0,
  "metadata": {
    "colab": {
      "provenance": []
    },
    "kernelspec": {
      "name": "python3",
      "display_name": "Python 3"
    },
    "language_info": {
      "name": "python"
    }
  },
  "cells": [
    {
      "cell_type": "code",
      "execution_count": 32,
      "metadata": {
        "id": "ENZqD_iv45us"
      },
      "outputs": [],
      "source": [
        "import torch\n",
        "import torch.nn as nn\n",
        "import numpy as np\n",
        "import matplotlib.pyplot as plt\n",
        "from sklearn import datasets"
      ]
    },
    {
      "cell_type": "code",
      "source": [
        "x_num,y_num=datasets.make_regression(n_samples=100,n_features=1,noise=20,random_state=1)"
      ],
      "metadata": {
        "id": "fkihijzL5Hp3"
      },
      "execution_count": 33,
      "outputs": []
    },
    {
      "cell_type": "code",
      "source": [
        "x=torch.from_numpy(x_num.astype(np.float32))\n",
        "y=torch.from_numpy(y_num.astype(np.float32))\n",
        "print(x.shape)\n",
        "print(y.shape)"
      ],
      "metadata": {
        "colab": {
          "base_uri": "https://localhost:8080/"
        },
        "id": "aNVektcI5VTk",
        "outputId": "1bb49497-2e9f-404e-c4dd-db8432740aa0"
      },
      "execution_count": 34,
      "outputs": [
        {
          "output_type": "stream",
          "name": "stdout",
          "text": [
            "torch.Size([100, 1])\n",
            "torch.Size([100])\n"
          ]
        }
      ]
    },
    {
      "cell_type": "code",
      "source": [
        "y=y.view(y.shape[0],1)\n",
        "y.shape"
      ],
      "metadata": {
        "colab": {
          "base_uri": "https://localhost:8080/"
        },
        "id": "T3g_l3Dv5kuT",
        "outputId": "7a559b52-d5e0-48e6-9f9e-56b96a5ab8ec"
      },
      "execution_count": 35,
      "outputs": [
        {
          "output_type": "execute_result",
          "data": {
            "text/plain": [
              "torch.Size([100, 1])"
            ]
          },
          "metadata": {},
          "execution_count": 35
        }
      ]
    },
    {
      "cell_type": "code",
      "source": [
        "n_samples,n_features=x.shape"
      ],
      "metadata": {
        "id": "R93eo1lI5ugJ"
      },
      "execution_count": 36,
      "outputs": []
    },
    {
      "cell_type": "code",
      "source": [
        "input=n_features\n",
        "output=1"
      ],
      "metadata": {
        "id": "C4METbSa50zu"
      },
      "execution_count": 37,
      "outputs": []
    },
    {
      "cell_type": "code",
      "source": [
        "# model=nn.Linear(input,output)\n",
        "# Loss=nn.MSELoss()\n",
        "# opt=torch.optim.SGD(model.parameters(),lr=0.01)\n"
      ],
      "metadata": {
        "id": "2ydK7Jaw56iT"
      },
      "execution_count": 38,
      "outputs": []
    },
    {
      "cell_type": "code",
      "source": [
        "class LinearRegression(nn.Module):\n",
        "  def __init__(self,input_dim,out_dim):\n",
        "    super(LinearRegression,self).__init__()\n",
        "    self.lin=nn.Linear(input_dim,out_dim)\n",
        "\n",
        "  def forward(self,x):\n",
        "    return self.lin(x)\n"
      ],
      "metadata": {
        "id": "ItmbFq6b7WPF"
      },
      "execution_count": 39,
      "outputs": []
    },
    {
      "cell_type": "code",
      "source": [
        "model=LinearRegression(input,output)\n",
        "Loss=nn.MSELoss()\n",
        "opt=torch.optim.SGD(model.parameters(),lr=0.01)"
      ],
      "metadata": {
        "id": "KtJCVHPh7TQ9"
      },
      "execution_count": 40,
      "outputs": []
    },
    {
      "cell_type": "code",
      "source": [
        "epochs=100\n",
        "for epoch in range(epochs):\n",
        "  y_pred=model(x)\n",
        "  loss=Loss(y_pred,y)\n",
        "  loss.backward()\n",
        "  opt.step()\n",
        "  opt.zero_grad()\n",
        "  if epoch%10==0:\n",
        "    print(f'Epoch:{epoch} , loss:{loss.item()}')\n"
      ],
      "metadata": {
        "colab": {
          "base_uri": "https://localhost:8080/"
        },
        "id": "thZ9_YHS6Rj6",
        "outputId": "5137d106-acc1-4b29-aad1-f12bc6f171e6"
      },
      "execution_count": 41,
      "outputs": [
        {
          "output_type": "stream",
          "name": "stdout",
          "text": [
            "Epoch:0 , loss:5679.33447265625\n",
            "Epoch:10 , loss:4204.255859375\n",
            "Epoch:20 , loss:3138.95751953125\n",
            "Epoch:30 , loss:2368.67724609375\n",
            "Epoch:40 , loss:1811.093017578125\n",
            "Epoch:50 , loss:1407.055419921875\n",
            "Epoch:60 , loss:1114.0009765625\n",
            "Epoch:70 , loss:901.256103515625\n",
            "Epoch:80 , loss:746.6864624023438\n",
            "Epoch:90 , loss:634.2994995117188\n"
          ]
        }
      ]
    },
    {
      "cell_type": "code",
      "source": [
        "predicted=model(x).detach().numpy()\n"
      ],
      "metadata": {
        "id": "3D8BbVB16ZSb"
      },
      "execution_count": 42,
      "outputs": []
    },
    {
      "cell_type": "code",
      "source": [
        "plt.plot(x_num,y_num,'ro')\n",
        "plt.plot(x_num,predicted,'b')\n",
        "plt.show()"
      ],
      "metadata": {
        "colab": {
          "base_uri": "https://localhost:8080/",
          "height": 430
        },
        "id": "-HIxdjEJ7Fy4",
        "outputId": "5fe784ea-d5f6-44f1-fc5b-cce91cdab842"
      },
      "execution_count": 43,
      "outputs": [
        {
          "output_type": "display_data",
          "data": {
            "text/plain": [
              "<Figure size 640x480 with 1 Axes>"
            ],
            "image/png": "[encoded data removed]"
          },
          "metadata": {}
        }
      ]
    },
    {
      "cell_type": "code",
      "source": [],
      "metadata": {
        "id": "pGh0STIq7N9g"
      },
      "execution_count": 43,
      "outputs": []
    }
  ]
}