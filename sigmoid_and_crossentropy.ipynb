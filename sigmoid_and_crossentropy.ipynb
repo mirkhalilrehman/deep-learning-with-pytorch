{
  "nbformat": 4,
  "nbformat_minor": 0,
  "metadata": {
    "colab": {
      "provenance": []
    },
    "kernelspec": {
      "name": "python3",
      "display_name": "Python 3"
    },
    "language_info": {
      "name": "python"
    }
  },
  "cells": [
    {
      "cell_type": "markdown",
      "source": [
        "SIGMOID Function"
      ],
      "metadata": {
        "id": "p_stG78G-ry0"
      }
    },
    {
      "cell_type": "code",
      "execution_count": null,
      "metadata": {
        "id": "ISLm1ymj9lBz"
      },
      "outputs": [],
      "source": [
        "import torch\n",
        "import torch.nn as nn\n",
        "import numpy as np"
      ]
    },
    {
      "cell_type": "code",
      "source": [
        "def sigmoid(x):\n",
        "  return np.exp(x)/np.sum(np.exp(x),axis=0)"
      ],
      "metadata": {
        "id": "pvkNmPoV9ruy"
      },
      "execution_count": null,
      "outputs": []
    },
    {
      "cell_type": "code",
      "source": [
        "x=np.array([2.0,1.0,0.1])\n",
        "output=sigmoid(x)\n",
        "print('Output',output)"
      ],
      "metadata": {
        "colab": {
          "base_uri": "https://localhost:8080/"
        },
        "id": "_gqtpYwW92D3",
        "outputId": "4a2cd702-7cb9-46d4-cf0a-6a02b8e43cef"
      },
      "execution_count": null,
      "outputs": [
        {
          "output_type": "stream",
          "name": "stdout",
          "text": [
            "Output [0.65900114 0.24243297 0.09856589]\n"
          ]
        }
      ]
    },
    {
      "cell_type": "code",
      "source": [
        "x=torch.tensor([2.0,1.0,0.1])\n",
        "output=torch.sigmoid(x)\n",
        "print('Output',output)"
      ],
      "metadata": {
        "colab": {
          "base_uri": "https://localhost:8080/"
        },
        "id": "ufWUZLnV9-Re",
        "outputId": "6b54b8be-2a41-427b-82db-eb1f871fc315"
      },
      "execution_count": null,
      "outputs": [
        {
          "output_type": "stream",
          "name": "stdout",
          "text": [
            "Output tensor([0.8808, 0.7311, 0.5250])\n"
          ]
        }
      ]
    },
    {
      "cell_type": "markdown",
      "source": [
        "Cross Entropy"
      ],
      "metadata": {
        "id": "zzK66-T4-vTA"
      }
    },
    {
      "cell_type": "code",
      "source": [
        "def cross_entropy(actual,pred):\n",
        "  loss =-np.sum(actual * np.log(pred))\n",
        "  return loss\n",
        "\n"
      ],
      "metadata": {
        "id": "DvhWHumd-EJ-"
      },
      "execution_count": null,
      "outputs": []
    },
    {
      "cell_type": "code",
      "source": [
        "y=np.array([1,0,0])\n",
        "y_pred_good=np.array([0.7,0.2,0.1])\n",
        "y_pred_bad=np.array([0.1,0.3,0.6])\n",
        "\n",
        "l1=cross_entropy(y,y_pred_good)\n",
        "l2=cross_entropy(y,y_pred_bad)\n",
        "print(l1,l2)"
      ],
      "metadata": {
        "colab": {
          "base_uri": "https://localhost:8080/"
        },
        "id": "VtxSGHoK_DL7",
        "outputId": "04bfbecc-7109-42f4-8479-5c1161a5dcb2"
      },
      "execution_count": null,
      "outputs": [
        {
          "output_type": "stream",
          "name": "stdout",
          "text": [
            "0.35667494393873245 2.3025850929940455\n"
          ]
        }
      ]
    },
    {
      "cell_type": "code",
      "source": [
        "loss=nn.CrossEntropyLoss()\n",
        "y=torch.tensor([0])\n",
        "y_pred_good=torch.tensor([[2.0,1.0,0.1]])\n",
        "y_pred_bad=torch.tensor([[0.2,1.0,0.1]])\n",
        "l1=loss(y_pred_good,y)\n",
        "l2=loss(y_pred_bad,y)\n",
        "print(l1,l2)\n",
        "\n",
        "_,pred1=torch.max(y_pred_good,1)\n",
        "_,pred2=torch.max(y_pred_bad,1)\n",
        "print(pred1,pred2)"
      ],
      "metadata": {
        "colab": {
          "base_uri": "https://localhost:8080/"
        },
        "id": "FBF8LYyAEpWK",
        "outputId": "07e37bd0-3896-48ba-a726-35704726c2de"
      },
      "execution_count": null,
      "outputs": [
        {
          "output_type": "stream",
          "name": "stdout",
          "text": [
            "tensor(0.4170) tensor(1.4184)\n",
            "tensor([0]) tensor([1])\n"
          ]
        }
      ]
    }
  ]
}